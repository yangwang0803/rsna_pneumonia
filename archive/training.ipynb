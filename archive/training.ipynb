{
 "cells": [
  {
   "cell_type": "code",
   "execution_count": 1,
   "metadata": {},
   "outputs": [],
   "source": [
    "import os\n",
    "import sys\n",
    "import random\n",
    "import numpy as np\n",
    "import pandas as pd\n",
    "from collections import defaultdict\n",
    "from datetime import datetime\n",
    "\n",
    "from matplotlib import pyplot as plt"
   ]
  },
  {
   "cell_type": "code",
   "execution_count": 2,
   "metadata": {},
   "outputs": [],
   "source": [
    "import tensorflow as tf\n",
    "from tensorflow import keras\n",
    "from tensorflow.keras.utils import plot_model\n",
    "from tensorflow.keras.callbacks import ModelCheckpoint, TensorBoard\n",
    "\n",
    "from skimage import measure\n",
    "from skimage.transform import resize"
   ]
  },
  {
   "cell_type": "code",
   "execution_count": 3,
   "metadata": {},
   "outputs": [
    {
     "data": {
      "text/plain": [
       "<module 'generator' from '/notebooks/code/generator.py'>"
      ]
     },
     "execution_count": 3,
     "metadata": {},
     "output_type": "execute_result"
    }
   ],
   "source": [
    "sys.path.append(os.path.join('../model'))\n",
    "\n",
    "import importlib\n",
    "\n",
    "import network_unet\n",
    "import network_resnet\n",
    "import functions\n",
    "import generator\n",
    "\n",
    "importlib.reload(network_unet)\n",
    "importlib.reload(network_resnet)\n",
    "importlib.reload(functions)\n",
    "importlib.reload(generator)"
   ]
  },
  {
   "cell_type": "code",
   "execution_count": 4,
   "metadata": {},
   "outputs": [],
   "source": [
    "from network_unet import UNet\n",
    "from network_resnet import ResNet\n",
    "from generator import Generator\n",
    "from functions import iou_segmentation, iou_box, LearningRate"
   ]
  },
  {
   "cell_type": "code",
   "execution_count": 5,
   "metadata": {},
   "outputs": [
    {
     "name": "stdout",
     "output_type": "stream",
     "text": [
      "num of patients= 25684\n",
      "num of boxes= 28989\n"
     ]
    }
   ],
   "source": [
    "# load bounding box locations\n",
    "box_locations = {}\n",
    "\n",
    "temp = pd.read_csv(os.path.join('../data/stage_1_train_labels.csv'))\n",
    "box_locations = defaultdict(list)\n",
    "\n",
    "print('num of patients=', len(temp.patientId.unique()))\n",
    "print('num of boxes=', len(temp))\n",
    "\n",
    "for _,row in temp.iterrows():\n",
    "    \n",
    "    if row.Target==1:\n",
    "        patientId=row.patientId\n",
    "        box=[int(row.x), int(row.y), int(row.width), int(row.height)]\n",
    "        box_locations[patientId].append(box)"
   ]
  },
  {
   "cell_type": "code",
   "execution_count": 6,
   "metadata": {},
   "outputs": [
    {
     "data": {
      "text/plain": [
       "[[662, 552, 182, 206]]"
      ]
     },
     "execution_count": 6,
     "metadata": {},
     "output_type": "execute_result"
    }
   ],
   "source": [
    "box_locations['640743e2-59ed-4859-b25b-eb92f351cef0']"
   ]
  },
  {
   "cell_type": "code",
   "execution_count": 6,
   "metadata": {},
   "outputs": [],
   "source": [
    "# load metadata\n",
    "# metadata = pd.read_csv(os.path.join('../data/metadata.csv'))\n",
    "# print(len(metadata))\n",
    "# metadata.head()"
   ]
  },
  {
   "cell_type": "code",
   "execution_count": 7,
   "metadata": {},
   "outputs": [
    {
     "name": "stdout",
     "output_type": "stream",
     "text": [
      "number of train samples= 23124\n",
      "number of validation samples= 2560\n"
     ]
    }
   ],
   "source": [
    "# split training and validation\n",
    "folder = '../data/stage_1_train_images'\n",
    "filenames = os.listdir(folder)\n",
    "random.shuffle(filenames)\n",
    "n_validation = 2560\n",
    "train_filenames = filenames[n_validation:]\n",
    "validation_filenames = filenames[:n_validation]\n",
    "print('number of train samples=', len(train_filenames))\n",
    "print('number of validation samples=', len(validation_filenames))"
   ]
  },
  {
   "cell_type": "code",
   "execution_count": 8,
   "metadata": {},
   "outputs": [],
   "source": [
    "# model parameter\n",
    "BATCH_SIZE = 16\n",
    "IMAGE_SIZE = 320\n",
    "N_EPOCH = 5"
   ]
  },
  {
   "cell_type": "code",
   "execution_count": 19,
   "metadata": {},
   "outputs": [
    {
     "name": "stdout",
     "output_type": "stream",
     "text": [
      "__________________________________________________________________________________________________\n",
      "Layer (type)                    Output Shape         Param #     Connected to                     \n",
      "==================================================================================================\n",
      "input_2 (InputLayer)            (None, 320, 320, 1)  0                                            \n",
      "__________________________________________________________________________________________________\n",
      "conv2d_22 (Conv2D)              (None, 320, 320, 32) 320         input_2[0][0]                    \n",
      "__________________________________________________________________________________________________\n",
      "conv2d_23 (Conv2D)              (None, 320, 320, 32) 9248        conv2d_22[0][0]                  \n",
      "__________________________________________________________________________________________________\n",
      "max_pooling2d_4 (MaxPooling2D)  (None, 160, 160, 32) 0           conv2d_23[0][0]                  \n",
      "__________________________________________________________________________________________________\n",
      "conv2d_24 (Conv2D)              (None, 160, 160, 64) 18496       max_pooling2d_4[0][0]            \n",
      "__________________________________________________________________________________________________\n",
      "conv2d_25 (Conv2D)              (None, 160, 160, 64) 36928       conv2d_24[0][0]                  \n",
      "__________________________________________________________________________________________________\n",
      "max_pooling2d_5 (MaxPooling2D)  (None, 80, 80, 64)   0           conv2d_25[0][0]                  \n",
      "__________________________________________________________________________________________________\n",
      "conv2d_26 (Conv2D)              (None, 80, 80, 64)   36928       max_pooling2d_5[0][0]            \n",
      "__________________________________________________________________________________________________\n",
      "conv2d_27 (Conv2D)              (None, 80, 80, 64)   36928       conv2d_26[0][0]                  \n",
      "__________________________________________________________________________________________________\n",
      "max_pooling2d_6 (MaxPooling2D)  (None, 40, 40, 64)   0           conv2d_27[0][0]                  \n",
      "__________________________________________________________________________________________________\n",
      "conv2d_28 (Conv2D)              (None, 40, 40, 128)  73856       max_pooling2d_6[0][0]            \n",
      "__________________________________________________________________________________________________\n",
      "conv2d_29 (Conv2D)              (None, 40, 40, 128)  147584      conv2d_28[0][0]                  \n",
      "__________________________________________________________________________________________________\n",
      "max_pooling2d_7 (MaxPooling2D)  (None, 20, 20, 128)  0           conv2d_29[0][0]                  \n",
      "__________________________________________________________________________________________________\n",
      "conv2d_30 (Conv2D)              (None, 20, 20, 256)  295168      max_pooling2d_7[0][0]            \n",
      "__________________________________________________________________________________________________\n",
      "up_sampling2d_1 (UpSampling2D)  (None, 40, 40, 256)  0           conv2d_30[0][0]                  \n",
      "__________________________________________________________________________________________________\n",
      "conv2d_31 (Conv2D)              (None, 40, 40, 256)  590080      up_sampling2d_1[0][0]            \n",
      "__________________________________________________________________________________________________\n",
      "conv2d_32 (Conv2D)              (None, 40, 40, 256)  590080      conv2d_31[0][0]                  \n",
      "__________________________________________________________________________________________________\n",
      "concatenate (Concatenate)       (None, 40, 40, 384)  0           conv2d_29[0][0]                  \n",
      "                                                                 conv2d_32[0][0]                  \n",
      "__________________________________________________________________________________________________\n",
      "conv2d_33 (Conv2D)              (None, 40, 40, 256)  884992      concatenate[0][0]                \n",
      "__________________________________________________________________________________________________\n",
      "up_sampling2d_2 (UpSampling2D)  (None, 80, 80, 256)  0           conv2d_33[0][0]                  \n",
      "__________________________________________________________________________________________________\n",
      "conv2d_34 (Conv2D)              (None, 80, 80, 256)  590080      up_sampling2d_2[0][0]            \n",
      "__________________________________________________________________________________________________\n",
      "conv2d_35 (Conv2D)              (None, 80, 80, 256)  590080      conv2d_34[0][0]                  \n",
      "__________________________________________________________________________________________________\n",
      "concatenate_1 (Concatenate)     (None, 80, 80, 320)  0           conv2d_27[0][0]                  \n",
      "                                                                 conv2d_35[0][0]                  \n",
      "__________________________________________________________________________________________________\n",
      "conv2d_36 (Conv2D)              (None, 80, 80, 256)  737536      concatenate_1[0][0]              \n",
      "__________________________________________________________________________________________________\n",
      "up_sampling2d_3 (UpSampling2D)  (None, 160, 160, 256 0           conv2d_36[0][0]                  \n",
      "__________________________________________________________________________________________________\n",
      "conv2d_37 (Conv2D)              (None, 160, 160, 128 295040      up_sampling2d_3[0][0]            \n",
      "__________________________________________________________________________________________________\n",
      "conv2d_38 (Conv2D)              (None, 160, 160, 128 147584      conv2d_37[0][0]                  \n",
      "__________________________________________________________________________________________________\n",
      "concatenate_2 (Concatenate)     (None, 160, 160, 192 0           conv2d_25[0][0]                  \n",
      "                                                                 conv2d_38[0][0]                  \n",
      "__________________________________________________________________________________________________\n",
      "conv2d_39 (Conv2D)              (None, 160, 160, 128 221312      concatenate_2[0][0]              \n",
      "__________________________________________________________________________________________________\n",
      "up_sampling2d_4 (UpSampling2D)  (None, 320, 320, 128 0           conv2d_39[0][0]                  \n",
      "__________________________________________________________________________________________________\n",
      "conv2d_40 (Conv2D)              (None, 320, 320, 64) 73792       up_sampling2d_4[0][0]            \n",
      "__________________________________________________________________________________________________\n",
      "conv2d_41 (Conv2D)              (None, 320, 320, 64) 36928       conv2d_40[0][0]                  \n",
      "__________________________________________________________________________________________________\n",
      "concatenate_3 (Concatenate)     (None, 320, 320, 96) 0           conv2d_23[0][0]                  \n",
      "                                                                 conv2d_41[0][0]                  \n",
      "__________________________________________________________________________________________________\n",
      "conv2d_42 (Conv2D)              (None, 320, 320, 64) 55360       concatenate_3[0][0]              \n",
      "__________________________________________________________________________________________________\n",
      "conv2d_43 (Conv2D)              (None, 320, 320, 1)  577         conv2d_42[0][0]                  \n",
      "==================================================================================================\n",
      "Total params: 5,468,897\n",
      "Trainable params: 5,468,897\n",
      "Non-trainable params: 0\n",
      "__________________________________________________________________________________________________\n",
      "None\n"
     ]
    }
   ],
   "source": [
    "#### Model 1 ####\n",
    "# ResNet from Kaggle public kernel\n",
    "# https://www.kaggle.com/jonnedtc/cnn-segmentation-connected-components\n",
    "\n",
    "# # build model\n",
    "# model = ResNet(input_size=IMAGE_SIZE, channels=32, n_blocks=2, depth=4)\n",
    "# model.compile(optimizer='adam',\n",
    "#               loss=keras.losses.binary_crossentropy,\n",
    "#               metrics=[iou_segmentation])\n",
    "\n",
    "# # visualize model\n",
    "# # plot_model(ResNet, 'model.png', show_shapes=True)\n",
    "# print(model.summary())\n",
    "\n",
    "#### Model 2 ####\n",
    "# UNet\n",
    "# https://github.com/imlab-uiip/lung-segmentation-2d\n",
    "\n",
    "# build model\n",
    "model = UNet(input_shape=(IMAGE_SIZE,IMAGE_SIZE,1))\n",
    "model.compile(optimizer='adam',\n",
    "              loss=keras.losses.binary_crossentropy,\n",
    "              metrics=[iou_segmentation])\n",
    "\n",
    "# visualize model\n",
    "# plot_model(UNet, 'model.png', show_shapes=True)\n",
    "print(model.summary())"
   ]
  },
  {
   "cell_type": "code",
   "execution_count": 26,
   "metadata": {},
   "outputs": [],
   "source": [
    "# callbacks\n",
    "callbacks=[]\n",
    "callback_lr = LearningRate(lr=0.0001)\n",
    "\n",
    "# callback_checkpointer = ModelCheckpoint('model.{epoch:03d}.hdf5', period=1)\n",
    "# callback_tb = TensorBoard(log_dir=os.path.join('../logs'), \n",
    "#                             histogram_freq=1, \n",
    "#                             batch_size=BATCH_SIZE, \n",
    "#                             write_graph=True, \n",
    "#                             write_grads=False, \n",
    "#                             write_images=False)\n",
    "\n",
    "callbacks = [callback_lr]"
   ]
  },
  {
   "cell_type": "code",
   "execution_count": 27,
   "metadata": {},
   "outputs": [
    {
     "name": "stdout",
     "output_type": "stream",
     "text": [
      "Epoch 1/5\n"
     ]
    },
    {
     "name": "stderr",
     "output_type": "stream",
     "text": [
      "/usr/local/lib/python3.5/dist-packages/skimage/transform/_warps.py:110: UserWarning: Anti-aliasing will be enabled by default in skimage 0.15 to avoid aliasing artifacts when down-sampling images.\n",
      "  warn(\"Anti-aliasing will be enabled by default in skimage 0.15 to \"\n"
     ]
    },
    {
     "name": "stdout",
     "output_type": "stream",
     "text": [
      " 982/1445 [===================>..........] - ETA: 3:57 - loss: 0.4350 - iou_segmentation: 0.0000e+00"
     ]
    },
    {
     "ename": "KeyboardInterrupt",
     "evalue": "",
     "output_type": "error",
     "traceback": [
      "\u001b[0;31m---------------------------------------------------------------------------\u001b[0m",
      "\u001b[0;31mKeyboardInterrupt\u001b[0m                         Traceback (most recent call last)",
      "\u001b[0;32m<ipython-input-27-871d1e4bc932>\u001b[0m in \u001b[0;36m<module>\u001b[0;34m()\u001b[0m\n\u001b[1;32m     19\u001b[0m                       predict=False)\n\u001b[1;32m     20\u001b[0m \u001b[0;34m\u001b[0m\u001b[0m\n\u001b[0;32m---> 21\u001b[0;31m \u001b[0mhistory\u001b[0m \u001b[0;34m=\u001b[0m \u001b[0mmodel\u001b[0m\u001b[0;34m.\u001b[0m\u001b[0mfit_generator\u001b[0m\u001b[0;34m(\u001b[0m\u001b[0mtrain_gen\u001b[0m\u001b[0;34m,\u001b[0m \u001b[0mvalidation_data\u001b[0m\u001b[0;34m=\u001b[0m\u001b[0mvalid_gen\u001b[0m\u001b[0;34m,\u001b[0m \u001b[0mcallbacks\u001b[0m\u001b[0;34m=\u001b[0m\u001b[0mcallbacks\u001b[0m\u001b[0;34m,\u001b[0m \u001b[0mepochs\u001b[0m\u001b[0;34m=\u001b[0m\u001b[0mN_EPOCH\u001b[0m\u001b[0;34m,\u001b[0m \u001b[0mshuffle\u001b[0m\u001b[0;34m=\u001b[0m\u001b[0;32mTrue\u001b[0m\u001b[0;34m)\u001b[0m\u001b[0;34m\u001b[0m\u001b[0m\n\u001b[0m",
      "\u001b[0;32m~usr/local/lib/python3.5/dist-packages/tensorflow/python/keras/engine/training.py\u001b[0m in \u001b[0;36mfit_generator\u001b[0;34m(self, generator, steps_per_epoch, epochs, verbose, callbacks, validation_data, validation_steps, class_weight, max_queue_size, workers, use_multiprocessing, shuffle, initial_epoch)\u001b[0m\n\u001b[1;32m   1777\u001b[0m         \u001b[0muse_multiprocessing\u001b[0m\u001b[0;34m=\u001b[0m\u001b[0muse_multiprocessing\u001b[0m\u001b[0;34m,\u001b[0m\u001b[0;34m\u001b[0m\u001b[0m\n\u001b[1;32m   1778\u001b[0m         \u001b[0mshuffle\u001b[0m\u001b[0;34m=\u001b[0m\u001b[0mshuffle\u001b[0m\u001b[0;34m,\u001b[0m\u001b[0;34m\u001b[0m\u001b[0m\n\u001b[0;32m-> 1779\u001b[0;31m         initial_epoch=initial_epoch)\n\u001b[0m\u001b[1;32m   1780\u001b[0m \u001b[0;34m\u001b[0m\u001b[0m\n\u001b[1;32m   1781\u001b[0m   def evaluate_generator(self,\n",
      "\u001b[0;32m~usr/local/lib/python3.5/dist-packages/tensorflow/python/keras/engine/training_generator.py\u001b[0m in \u001b[0;36mfit_generator\u001b[0;34m(model, generator, steps_per_epoch, epochs, verbose, callbacks, validation_data, validation_steps, class_weight, max_queue_size, workers, use_multiprocessing, shuffle, initial_epoch)\u001b[0m\n\u001b[1;32m    202\u001b[0m \u001b[0;34m\u001b[0m\u001b[0m\n\u001b[1;32m    203\u001b[0m         outs = model.train_on_batch(\n\u001b[0;32m--> 204\u001b[0;31m             x, y, sample_weight=sample_weight, class_weight=class_weight)\n\u001b[0m\u001b[1;32m    205\u001b[0m \u001b[0;34m\u001b[0m\u001b[0m\n\u001b[1;32m    206\u001b[0m         \u001b[0;32mif\u001b[0m \u001b[0;32mnot\u001b[0m \u001b[0misinstance\u001b[0m\u001b[0;34m(\u001b[0m\u001b[0mouts\u001b[0m\u001b[0;34m,\u001b[0m \u001b[0mlist\u001b[0m\u001b[0;34m)\u001b[0m\u001b[0;34m:\u001b[0m\u001b[0;34m\u001b[0m\u001b[0m\n",
      "\u001b[0;32m~usr/local/lib/python3.5/dist-packages/tensorflow/python/keras/engine/training.py\u001b[0m in \u001b[0;36mtrain_on_batch\u001b[0;34m(self, x, y, sample_weight, class_weight)\u001b[0m\n\u001b[1;32m   1550\u001b[0m \u001b[0;34m\u001b[0m\u001b[0m\n\u001b[1;32m   1551\u001b[0m       \u001b[0mself\u001b[0m\u001b[0;34m.\u001b[0m\u001b[0m_make_train_function\u001b[0m\u001b[0;34m(\u001b[0m\u001b[0;34m)\u001b[0m\u001b[0;34m\u001b[0m\u001b[0m\n\u001b[0;32m-> 1552\u001b[0;31m       \u001b[0moutputs\u001b[0m \u001b[0;34m=\u001b[0m \u001b[0mself\u001b[0m\u001b[0;34m.\u001b[0m\u001b[0mtrain_function\u001b[0m\u001b[0;34m(\u001b[0m\u001b[0mins\u001b[0m\u001b[0;34m)\u001b[0m\u001b[0;34m\u001b[0m\u001b[0m\n\u001b[0m\u001b[1;32m   1553\u001b[0m \u001b[0;34m\u001b[0m\u001b[0m\n\u001b[1;32m   1554\u001b[0m     \u001b[0;32mif\u001b[0m \u001b[0mlen\u001b[0m\u001b[0;34m(\u001b[0m\u001b[0moutputs\u001b[0m\u001b[0;34m)\u001b[0m \u001b[0;34m==\u001b[0m \u001b[0;36m1\u001b[0m\u001b[0;34m:\u001b[0m\u001b[0;34m\u001b[0m\u001b[0m\n",
      "\u001b[0;32m~usr/local/lib/python3.5/dist-packages/tensorflow/python/keras/backend.py\u001b[0m in \u001b[0;36m__call__\u001b[0;34m(self, inputs)\u001b[0m\n\u001b[1;32m   2912\u001b[0m       \u001b[0mself\u001b[0m\u001b[0;34m.\u001b[0m\u001b[0m_make_callable\u001b[0m\u001b[0;34m(\u001b[0m\u001b[0mfeed_arrays\u001b[0m\u001b[0;34m,\u001b[0m \u001b[0mfeed_symbols\u001b[0m\u001b[0;34m,\u001b[0m \u001b[0msymbol_vals\u001b[0m\u001b[0;34m,\u001b[0m \u001b[0msession\u001b[0m\u001b[0;34m)\u001b[0m\u001b[0;34m\u001b[0m\u001b[0m\n\u001b[1;32m   2913\u001b[0m \u001b[0;34m\u001b[0m\u001b[0m\n\u001b[0;32m-> 2914\u001b[0;31m     \u001b[0mfetched\u001b[0m \u001b[0;34m=\u001b[0m \u001b[0mself\u001b[0m\u001b[0;34m.\u001b[0m\u001b[0m_callable_fn\u001b[0m\u001b[0;34m(\u001b[0m\u001b[0;34m*\u001b[0m\u001b[0marray_vals\u001b[0m\u001b[0;34m)\u001b[0m\u001b[0;34m\u001b[0m\u001b[0m\n\u001b[0m\u001b[1;32m   2915\u001b[0m     \u001b[0mself\u001b[0m\u001b[0;34m.\u001b[0m\u001b[0m_call_fetch_callbacks\u001b[0m\u001b[0;34m(\u001b[0m\u001b[0mfetched\u001b[0m\u001b[0;34m[\u001b[0m\u001b[0;34m-\u001b[0m\u001b[0mlen\u001b[0m\u001b[0;34m(\u001b[0m\u001b[0mself\u001b[0m\u001b[0;34m.\u001b[0m\u001b[0m_fetches\u001b[0m\u001b[0;34m)\u001b[0m\u001b[0;34m:\u001b[0m\u001b[0;34m]\u001b[0m\u001b[0;34m)\u001b[0m\u001b[0;34m\u001b[0m\u001b[0m\n\u001b[1;32m   2916\u001b[0m     \u001b[0;32mreturn\u001b[0m \u001b[0mfetched\u001b[0m\u001b[0;34m[\u001b[0m\u001b[0;34m:\u001b[0m\u001b[0mlen\u001b[0m\u001b[0;34m(\u001b[0m\u001b[0mself\u001b[0m\u001b[0;34m.\u001b[0m\u001b[0moutputs\u001b[0m\u001b[0;34m)\u001b[0m\u001b[0;34m]\u001b[0m\u001b[0;34m\u001b[0m\u001b[0m\n",
      "\u001b[0;32m~usr/local/lib/python3.5/dist-packages/tensorflow/python/client/session.py\u001b[0m in \u001b[0;36m__call__\u001b[0;34m(self, *args, **kwargs)\u001b[0m\n\u001b[1;32m   1380\u001b[0m           ret = tf_session.TF_SessionRunCallable(\n\u001b[1;32m   1381\u001b[0m               \u001b[0mself\u001b[0m\u001b[0;34m.\u001b[0m\u001b[0m_session\u001b[0m\u001b[0;34m.\u001b[0m\u001b[0m_session\u001b[0m\u001b[0;34m,\u001b[0m \u001b[0mself\u001b[0m\u001b[0;34m.\u001b[0m\u001b[0m_handle\u001b[0m\u001b[0;34m,\u001b[0m \u001b[0margs\u001b[0m\u001b[0;34m,\u001b[0m \u001b[0mstatus\u001b[0m\u001b[0;34m,\u001b[0m\u001b[0;34m\u001b[0m\u001b[0m\n\u001b[0;32m-> 1382\u001b[0;31m               run_metadata_ptr)\n\u001b[0m\u001b[1;32m   1383\u001b[0m         \u001b[0;32mif\u001b[0m \u001b[0mrun_metadata\u001b[0m\u001b[0;34m:\u001b[0m\u001b[0;34m\u001b[0m\u001b[0m\n\u001b[1;32m   1384\u001b[0m           \u001b[0mproto_data\u001b[0m \u001b[0;34m=\u001b[0m \u001b[0mtf_session\u001b[0m\u001b[0;34m.\u001b[0m\u001b[0mTF_GetBuffer\u001b[0m\u001b[0;34m(\u001b[0m\u001b[0mrun_metadata_ptr\u001b[0m\u001b[0;34m)\u001b[0m\u001b[0;34m\u001b[0m\u001b[0m\n",
      "\u001b[0;31mKeyboardInterrupt\u001b[0m: "
     ]
    }
   ],
   "source": [
    "# train model\n",
    "folder = os.path.join('../data/stage_1_train_images')\n",
    "train_gen = Generator(folder, \n",
    "                      train_filenames, \n",
    "                      box_locations, \n",
    "                      batch_size=BATCH_SIZE, \n",
    "                      image_size=IMAGE_SIZE, \n",
    "                      shuffle=True, \n",
    "                      augment=True, \n",
    "                      predict=False)\n",
    "\n",
    "valid_gen = Generator(folder, \n",
    "                      validation_filenames, \n",
    "                      box_locations, \n",
    "                      batch_size=BATCH_SIZE, \n",
    "                      image_size=IMAGE_SIZE, \n",
    "                      shuffle=False, \n",
    "                      augment=False,\n",
    "                      predict=False)\n",
    "\n",
    "history = model.fit_generator(train_gen, validation_data=valid_gen, callbacks=callbacks, epochs=N_EPOCH, shuffle=True)"
   ]
  },
  {
   "cell_type": "code",
   "execution_count": 12,
   "metadata": {},
   "outputs": [
    {
     "data": {
      "image/png": "[encoded data removed]",
      "text/plain": [
       "<Figure size 864x288 with 2 Axes>"
      ]
     },
     "metadata": {
      "needs_background": "light"
     },
     "output_type": "display_data"
    }
   ],
   "source": [
    "# visualize training history\n",
    "plt.figure(figsize=(12,4))\n",
    "plt.subplot(121)\n",
    "plt.plot(history.epoch, history.history[\"loss\"], label=\"Train loss\")\n",
    "plt.plot(history.epoch, history.history[\"val_loss\"], label=\"Valid loss\")\n",
    "plt.legend()\n",
    "plt.subplot(122)\n",
    "plt.plot(history.epoch, history.history[\"iou_segmentation\"], label=\"Train iou\")\n",
    "plt.plot(history.epoch, history.history[\"val_iou_segmentation\"], label=\"Valid iou\")\n",
    "plt.legend()\n",
    "plt.show()"
   ]
  },
  {
   "cell_type": "code",
   "execution_count": 18,
   "metadata": {},
   "outputs": [
    {
     "name": "stdout",
     "output_type": "stream",
     "text": [
      "number of test samples= 2560\n"
     ]
    },
    {
     "name": "stderr",
     "output_type": "stream",
     "text": [
      "/usr/local/lib/python3.5/dist-packages/skimage/transform/_warps.py:110: UserWarning: Anti-aliasing will be enabled by default in skimage 0.15 to avoid aliasing artifacts when down-sampling images.\n",
      "  warn(\"Anti-aliasing will be enabled by default in skimage 0.15 to \"\n"
     ]
    },
    {
     "name": "stdout",
     "output_type": "stream",
     "text": [
      "\n",
      "Probability threshold= 0.15\n",
      "False positive cases= 926\n",
      "True positive cases= 492\n",
      "Overall evaluation score= 0.08090968885283167\n",
      "\n",
      "Probability threshold= 0.2\n",
      "False positive cases= 711\n",
      "True positive cases= 462\n",
      "Overall evaluation score= 0.0944662506633549\n",
      "\n",
      "Probability threshold= 0.25\n",
      "False positive cases= 539\n",
      "True positive cases= 431\n",
      "Overall evaluation score= 0.10015576323051506\n",
      "\n",
      "Probability threshold= 0.3\n",
      "False positive cases= 402\n",
      "True positive cases= 383\n",
      "Overall evaluation score= 0.09818908537711449\n",
      "\n",
      "Probability threshold= 0.35\n",
      "False positive cases= 323\n",
      "True positive cases= 336\n",
      "Overall evaluation score= 0.0877903005361682\n",
      "\n",
      "Probability threshold= 0.4\n",
      "False positive cases= 262\n",
      "True positive cases= 304\n",
      "Overall evaluation score= 0.07690994114204583\n",
      "\n",
      "Probability threshold= 0.45\n",
      "False positive cases= 188\n",
      "True positive cases= 263\n",
      "Overall evaluation score= 0.06706363003239728\n",
      "\n",
      "Probability threshold= 0.5\n",
      "False positive cases= 137\n",
      "True positive cases= 220\n",
      "Overall evaluation score= 0.05543600298571316\n"
     ]
    }
   ],
   "source": [
    "# predict validation images\n",
    "prob_thresholds = [0.15, 0.2, 0.25, 0.3, 0.35, 0.4, 0.45, 0.5]\n",
    "nthresh = len(prob_thresholds)\n",
    "\n",
    "# load validation filenames\n",
    "folder = os.path.join('../data/stage_1_train_images')\n",
    "test_filenames = validation_filenames\n",
    "print('number of test samples=', len(test_filenames))\n",
    "\n",
    "# create test generator with predict flag set to True\n",
    "test_gen = Generator(folder, test_filenames, None, batch_size=25, \n",
    "                     image_size=IMAGE_SIZE, shuffle=False, predict=True)\n",
    "\n",
    "# loop through validation set\n",
    "count = 0\n",
    "ns = nthresh*[0]\n",
    "nfps = nthresh*[0]\n",
    "ntps = nthresh*[0]\n",
    "overall_maps = nthresh*[0.]\n",
    "for imgs, filenames in test_gen:\n",
    "    # predict batch of images\n",
    "    preds = model.predict(imgs)\n",
    "    # loop through batch\n",
    "    for pred, filename in zip(preds, filenames):\n",
    "        count = count + 1\n",
    "        maxpred = np.max(pred)\n",
    "        # resize predicted mask\n",
    "        pred = resize(pred, (1024, 1024), mode='reflect')\n",
    "        # threshold predicted mask\n",
    "        boxes_preds = []\n",
    "        scoress = []\n",
    "        for thresh in prob_thresholds:\n",
    "            comp = pred[:, :, 0] > thresh\n",
    "            # apply connected components\n",
    "            comp = measure.label(comp)\n",
    "            # apply bounding boxes\n",
    "            boxes_pred = np.empty((0,4),int)\n",
    "            scores = np.empty((0))\n",
    "            for region in measure.regionprops(comp):\n",
    "                # retrieve x, y, height and width\n",
    "                y, x, y2, x2 = region.bbox\n",
    "                boxes_pred = np.append(boxes_pred, [[x, y, x2-x, y2-y]], axis=0)\n",
    "                # proxy for confidence score\n",
    "                conf = np.mean(pred[y:y2, x:x2])\n",
    "                scores = np.append( scores, conf )\n",
    "            boxes_preds = boxes_preds + [boxes_pred]\n",
    "            scoress = scoress + [scores]\n",
    "        boxes_true = np.empty((0,4),int)\n",
    "        fn = filename.split('.')[0]\n",
    "        \n",
    "        # if image contains pneumonia\n",
    "        if fn in box_locations:\n",
    "            # loop through pneumonia\n",
    "            for location in box_locations[fn]:\n",
    "                x, y, w, h = location\n",
    "                boxes_true = np.append(boxes_true, [[x, y, w, h]], axis=0)\n",
    "        for i in range(nthresh):\n",
    "            if (boxes_true.shape[0]==0 and boxes_preds[i].shape[0]>0):\n",
    "                ns[i] = ns[i] + 1\n",
    "                nfps[i] = nfps[i] + 1\n",
    "            elif (boxes_true.shape[0]>0):\n",
    "                ns[i] = ns[i] + 1\n",
    "                contrib = iou_box(boxes_true, boxes_preds[i], scoress[i]) \n",
    "                overall_maps[i] = overall_maps[i] + contrib\n",
    "                if (boxes_preds[i].shape[0]>0):\n",
    "                    ntps[i] = ntps[i] + 1\n",
    "\n",
    "    # stop if we've got them all\n",
    "    if count >= len(test_filenames):\n",
    "        break\n",
    "\n",
    "for i, thresh in enumerate(prob_thresholds):\n",
    "    print(\"\\nProbability threshold=\", thresh)\n",
    "    overall_maps[i] = overall_maps[i] / (ns[i]+1e-7)\n",
    "    print(\"False positive cases=\", nfps[i])\n",
    "    print(\"True positive cases=\", ntps[i])\n",
    "    print(\"Overall evaluation score=\", overall_maps[i])"
   ]
  },
  {
   "cell_type": "code",
   "execution_count": null,
   "metadata": {},
   "outputs": [],
   "source": [
    "# save model to disk for testing\n",
    "model_path = 'model'+datetime.now().strftime(\"%Y%m%d_%H:%M:%S\")+'.hdf5'\n",
    "model.save(os.path.join(model_path))"
   ]
  }
 ],
 "metadata": {
  "kernelspec": {
   "display_name": "Python 3",
   "language": "python",
   "name": "python3"
  },
  "language_info": {
   "codemirror_mode": {
    "name": "ipython",
    "version": 3
   },
   "file_extension": ".py",
   "mimetype": "text/x-python",
   "name": "python",
   "nbconvert_exporter": "python",
   "pygments_lexer": "ipython3",
   "version": "3.5.2"
  }
 },
 "nbformat": 4,
 "nbformat_minor": 2
}
