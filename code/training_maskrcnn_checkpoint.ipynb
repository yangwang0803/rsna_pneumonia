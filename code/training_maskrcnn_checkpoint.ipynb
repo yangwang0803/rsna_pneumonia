{
 "cells": [
  {
   "cell_type": "code",
   "execution_count": 7,
   "metadata": {},
   "outputs": [],
   "source": [
    "import os \n",
    "import sys\n",
    "import random\n",
    "import math\n",
    "import numpy as np\n",
    "import pandas as pd \n",
    "import glob \n",
    "import json\n",
    "from matplotlib import pyplot as plt\n",
    "\n",
    "import cv2\n",
    "import pydicom\n",
    "from imgaug import augmenters as iaa\n",
    "from tqdm import tqdm"
   ]
  },
  {
   "cell_type": "code",
   "execution_count": 8,
   "metadata": {},
   "outputs": [],
   "source": [
    "DATA_DIR = '../data'\n",
    "TRAIN_DIR = os.path.join(DATA_DIR, 'stage_1_train_images')\n",
    "TEST_DIR = os.path.join(DATA_DIR, 'stage_1_test_images')\n",
    "\n",
    "MODEL_DIR = '../model/Mask_RCNN'\n",
    "ORIG_SIZE = 1024"
   ]
  },
  {
   "cell_type": "code",
   "execution_count": 9,
   "metadata": {},
   "outputs": [],
   "source": [
    "# Import Mask RCNN\n",
    "sys.path.append(os.path.join(MODEL_DIR))  # To find local version of the library\n",
    "import mrcnn.model as modellib\n",
    "from mrcnn import visualize\n",
    "from mrcnn.model import log"
   ]
  },
  {
   "cell_type": "code",
   "execution_count": 10,
   "metadata": {},
   "outputs": [],
   "source": [
    "from pneumonia import PneumoniaDataset2, PneumoniaConfig2\n",
    "from functions import parse_dataset"
   ]
  },
  {
   "cell_type": "code",
   "execution_count": 11,
   "metadata": {},
   "outputs": [
    {
     "name": "stdout",
     "output_type": "stream",
     "text": [
      "\n",
      "Configurations:\n",
      "BACKBONE                       resnet101\n",
      "BACKBONE_STRIDES               [4, 8, 16, 32, 64]\n",
      "BATCH_SIZE                     8\n",
      "BBOX_STD_DEV                   [0.1 0.1 0.2 0.2]\n",
      "COMPUTE_BACKBONE_SHAPE         None\n",
      "DETECTION_MAX_INSTANCES        3\n",
      "DETECTION_MIN_CONFIDENCE       0.6\n",
      "DETECTION_NMS_THRESHOLD        0.1\n",
      "FPN_CLASSIF_FC_LAYERS_SIZE     1024\n",
      "GPU_COUNT                      1\n",
      "GRADIENT_CLIP_NORM             5.0\n",
      "IMAGES_PER_GPU                 8\n",
      "IMAGE_CHANNEL_COUNT            3\n",
      "IMAGE_MAX_DIM                  512\n",
      "IMAGE_META_SIZE                15\n",
      "IMAGE_MIN_DIM                  512\n",
      "IMAGE_MIN_SCALE                0\n",
      "IMAGE_RESIZE_MODE              square\n",
      "IMAGE_SHAPE                    [512 512   3]\n",
      "LEARNING_MOMENTUM              0.9\n",
      "LEARNING_RATE                  0.001\n",
      "LOSS_WEIGHTS                   {'mrcnn_mask_loss': 1.0, 'mrcnn_class_loss': 1.0, 'rpn_bbox_loss': 1.0, 'mrcnn_bbox_loss': 1.0, 'rpn_class_loss': 1.0}\n",
      "MASK_POOL_SIZE                 14\n",
      "MASK_SHAPE                     [28, 28]\n",
      "MAX_GT_INSTANCES               3\n",
      "MEAN_PIXEL                     [123.7 116.8 103.9]\n",
      "MINI_MASK_SHAPE                (56, 56)\n",
      "NAME                           pneumonia\n",
      "NUM_CLASSES                    3\n",
      "POOL_SIZE                      7\n",
      "POST_NMS_ROIS_INFERENCE        1000\n",
      "POST_NMS_ROIS_TRAINING         2000\n",
      "PRE_NMS_LIMIT                  6000\n",
      "ROI_POSITIVE_RATIO             0.33\n",
      "RPN_ANCHOR_RATIOS              [0.5, 1, 2]\n",
      "RPN_ANCHOR_SCALES              (32, 64, 128, 256)\n",
      "RPN_ANCHOR_STRIDE              1\n",
      "RPN_BBOX_STD_DEV               [0.1 0.1 0.2 0.2]\n",
      "RPN_NMS_THRESHOLD              0.7\n",
      "RPN_TRAIN_ANCHORS_PER_IMAGE    256\n",
      "STEPS_PER_EPOCH                500\n",
      "TOP_DOWN_PYRAMID_SIZE          256\n",
      "TRAIN_BN                       False\n",
      "TRAIN_ROIS_PER_IMAGE           32\n",
      "USE_MINI_MASK                  True\n",
      "USE_RPN_ROIS                   True\n",
      "VALIDATION_STEPS               200\n",
      "WEIGHT_DECAY                   0.0001\n",
      "\n",
      "\n"
     ]
    }
   ],
   "source": [
    "# The following parameters have been selected to reduce running time for demonstration purposes \n",
    "# These are not optimal \n",
    "\n",
    "config = PneumoniaConfig2()\n",
    "config.display()"
   ]
  },
  {
   "cell_type": "code",
   "execution_count": 12,
   "metadata": {},
   "outputs": [],
   "source": [
    "# Parse dataset\n",
    "annotations = pd.read_csv(os.path.join(DATA_DIR, 'stage_1_train_labels_2.csv'))\n",
    "image_fps, image_annotations = parse_dataset(TRAIN_DIR, annotations)"
   ]
  },
  {
   "cell_type": "code",
   "execution_count": 13,
   "metadata": {},
   "outputs": [
    {
     "name": "stdout",
     "output_type": "stream",
     "text": [
      "train_size= 24184\n",
      "validation_size= 1500\n"
     ]
    }
   ],
   "source": [
    "# Split dataset into training vs. validation dataset\n",
    "image_fps_train = pd.read_csv('image_fps_train.csv').image_fps_train.tolist()\n",
    "image_fps_val = pd.read_csv('image_fps_val.csv').image_fps_val.tolist()\n",
    "print('train_size=', len(image_fps_train))\n",
    "print('validation_size=', len(image_fps_val))"
   ]
  },
  {
   "cell_type": "code",
   "execution_count": 14,
   "metadata": {},
   "outputs": [],
   "source": [
    "# Prepare the training dataset\n",
    "dataset_train = PneumoniaDataset2(image_fps_train, image_annotations, ORIG_SIZE, ORIG_SIZE)\n",
    "dataset_train.prepare()\n",
    "\n",
    "# Prepare the validation dataset\n",
    "dataset_val = PneumoniaDataset2(image_fps_val, image_annotations, ORIG_SIZE, ORIG_SIZE)\n",
    "dataset_val.prepare()"
   ]
  },
  {
   "cell_type": "code",
   "execution_count": 15,
   "metadata": {},
   "outputs": [],
   "source": [
    "# Image augmentation (light but constant)\n",
    "augmentation = iaa.Sequential([\n",
    "    iaa.Fliplr(0.5),\n",
    "    \n",
    "    iaa.OneOf([ ## geometric transform\n",
    "        iaa.Affine(\n",
    "            scale={\"x\": (0.98, 1.02), \"y\": (0.98, 1.02)},\n",
    "            translate_percent={\"x\": (-0.02, 0.02), \"y\": (-0.04, 0.04)},\n",
    "            rotate=(-2, 2),\n",
    "            shear=(-1, 1),\n",
    "        ),\n",
    "        iaa.PiecewiseAffine(scale=(0.001, 0.025)),\n",
    "    ]),\n",
    "    \n",
    "    iaa.OneOf([ ## brightness or contrast\n",
    "        iaa.Multiply((0.9, 1.1)),\n",
    "        iaa.ContrastNormalization((0.9, 1.1)),\n",
    "    ]),\n",
    "    \n",
    "    iaa.OneOf([ ## blur or sharpen\n",
    "        iaa.GaussianBlur(sigma=(0.0, 0.1)),\n",
    "        iaa.Sharpen(alpha=(0.0, 0.1)),\n",
    "    ])\n",
    "])"
   ]
  },
  {
   "cell_type": "code",
   "execution_count": 16,
   "metadata": {},
   "outputs": [
    {
     "name": "stdout",
     "output_type": "stream",
     "text": [
      "Re-starting from epoch 20\n"
     ]
    }
   ],
   "source": [
    "# Build model\n",
    "model = modellib.MaskRCNN(mode='training', config=config, model_dir=MODEL_DIR)\n",
    "MODEL_PATH = os.path.join(MODEL_DIR, 'pneumonia20181021T0214/mask_rcnn_pneumonia_0020.h5')\n",
    "\n",
    "# Exclude the last layers because they require a matching\n",
    "# number of classes\n",
    "model.load_weights(MODEL_PATH, by_name=True)"
   ]
  },
  {
   "cell_type": "code",
   "execution_count": 19,
   "metadata": {
    "scrolled": true
   },
   "outputs": [
    {
     "name": "stdout",
     "output_type": "stream",
     "text": [
      "\n",
      "Starting at epoch 20. LR=2e-05\n",
      "\n",
      "Checkpoint Path: ../model/Mask_RCNN/pneumonia20181021T0214/mask_rcnn_pneumonia_{epoch:04d}.h5\n",
      "Selecting layers to train\n",
      "fpn_c5p5               (Conv2D)\n",
      "fpn_c4p4               (Conv2D)\n",
      "fpn_c3p3               (Conv2D)\n",
      "fpn_c2p2               (Conv2D)\n",
      "fpn_p5                 (Conv2D)\n",
      "fpn_p2                 (Conv2D)\n",
      "fpn_p3                 (Conv2D)\n",
      "fpn_p4                 (Conv2D)\n",
      "In model:  rpn_model\n",
      "    rpn_conv_shared        (Conv2D)\n",
      "    rpn_class_raw          (Conv2D)\n",
      "    rpn_bbox_pred          (Conv2D)\n",
      "mrcnn_mask_conv1       (TimeDistributed)\n",
      "mrcnn_mask_bn1         (TimeDistributed)\n",
      "mrcnn_mask_conv2       (TimeDistributed)\n",
      "mrcnn_mask_bn2         (TimeDistributed)\n",
      "mrcnn_class_conv1      (TimeDistributed)\n",
      "mrcnn_class_bn1        (TimeDistributed)\n",
      "mrcnn_mask_conv3       (TimeDistributed)\n",
      "mrcnn_mask_bn3         (TimeDistributed)\n",
      "mrcnn_class_conv2      (TimeDistributed)\n",
      "mrcnn_class_bn2        (TimeDistributed)\n",
      "mrcnn_mask_conv4       (TimeDistributed)\n",
      "mrcnn_mask_bn4         (TimeDistributed)\n",
      "mrcnn_bbox_fc          (TimeDistributed)\n",
      "mrcnn_mask_deconv      (TimeDistributed)\n",
      "mrcnn_class_logits     (TimeDistributed)\n",
      "mrcnn_mask             (TimeDistributed)\n",
      "workers= 1\n",
      "use_multiprodcessing= False\n",
      "Epoch 21/22\n",
      "500/500 [==============================] - 1647s 3s/step - loss: 0.7977 - rpn_class_loss: 0.0043 - rpn_bbox_loss: 0.1527 - mrcnn_class_loss: 0.2203 - mrcnn_bbox_loss: 0.1702 - mrcnn_mask_loss: 0.2501 - val_loss: 0.8209 - val_rpn_class_loss: 0.0051 - val_rpn_bbox_loss: 0.1848 - val_mrcnn_class_loss: 0.2181 - val_mrcnn_bbox_loss: 0.1783 - val_mrcnn_mask_loss: 0.2345\n",
      "Epoch 22/22\n",
      "500/500 [==============================] - 1483s 3s/step - loss: 0.8114 - rpn_class_loss: 0.0043 - rpn_bbox_loss: 0.1534 - mrcnn_class_loss: 0.2283 - mrcnn_bbox_loss: 0.1744 - mrcnn_mask_loss: 0.2511 - val_loss: 0.8414 - val_rpn_class_loss: 0.0050 - val_rpn_bbox_loss: 0.1875 - val_mrcnn_class_loss: 0.2243 - val_mrcnn_bbox_loss: 0.1856 - val_mrcnn_mask_loss: 0.2390\n",
      "CPU times: user 1h 42min 33s, sys: 1h 31min 21s, total: 3h 13min 55s\n",
      "Wall time: 53min 6s\n"
     ]
    }
   ],
   "source": [
    "%%time\n",
    "# Train model\n",
    "LEARNING_RATE = 0.001\n",
    "\n",
    "## train heads with higher lr to speedup the learning\n",
    "model.train(dataset_train, dataset_val,\n",
    "            learning_rate=LEARNING_RATE/50,\n",
    "            epochs=22,\n",
    "            layers='heads',\n",
    "            augmentation=augmentation)  ## no need to augment yet\n",
    "\n",
    "history = model.keras_model.history.history"
   ]
  },
  {
   "cell_type": "code",
   "execution_count": 20,
   "metadata": {},
   "outputs": [
    {
     "data": {
      "image/png": "[encoded data removed]",
      "text/plain": [
       "<Figure size 1224x360 with 3 Axes>"
      ]
     },
     "metadata": {
      "needs_background": "light"
     },
     "output_type": "display_data"
    }
   ],
   "source": [
    "# Plot loss\n",
    "epochs = range(1,len(next(iter(history.values())))+1)\n",
    "df_history = pd.DataFrame(history, index=epochs)\n",
    "\n",
    "plt.figure(figsize=(17,5))\n",
    "\n",
    "plt.subplot(131)\n",
    "plt.plot(epochs, history[\"loss\"], label=\"Train loss\")\n",
    "plt.plot(epochs, history[\"val_loss\"], label=\"Valid loss\")\n",
    "plt.legend()\n",
    "plt.subplot(132)\n",
    "plt.plot(epochs, history[\"mrcnn_class_loss\"], label=\"Train class ce\")\n",
    "plt.plot(epochs, history[\"val_mrcnn_class_loss\"], label=\"Valid class ce\")\n",
    "plt.legend()\n",
    "plt.subplot(133)\n",
    "plt.plot(epochs, history[\"mrcnn_bbox_loss\"], label=\"Train box loss\")\n",
    "plt.plot(epochs, history[\"val_mrcnn_bbox_loss\"], label=\"Valid box loss\")\n",
    "plt.legend()\n",
    "\n",
    "plt.show()"
   ]
  },
  {
   "cell_type": "code",
   "execution_count": 21,
   "metadata": {},
   "outputs": [
    {
     "name": "stdout",
     "output_type": "stream",
     "text": [
      "Best Epoch: 1\n"
     ]
    }
   ],
   "source": [
    "best_epoch = np.argmin(history[\"val_loss\"])\n",
    "print(\"Best Epoch:\", best_epoch + 1)"
   ]
  },
  {
   "cell_type": "code",
   "execution_count": 22,
   "metadata": {},
   "outputs": [
    {
     "data": {
      "text/html": [
       "<div>\n",
       "<style scoped>\n",
       "    .dataframe tbody tr th:only-of-type {\n",
       "        vertical-align: middle;\n",
       "    }\n",
       "\n",
       "    .dataframe tbody tr th {\n",
       "        vertical-align: top;\n",
       "    }\n",
       "\n",
       "    .dataframe thead th {\n",
       "        text-align: right;\n",
       "    }\n",
       "</style>\n",
       "<table border=\"1\" class=\"dataframe\">\n",
       "  <thead>\n",
       "    <tr style=\"text-align: right;\">\n",
       "      <th></th>\n",
       "      <th>loss</th>\n",
       "      <th>mrcnn_bbox_loss</th>\n",
       "      <th>mrcnn_class_loss</th>\n",
       "      <th>mrcnn_mask_loss</th>\n",
       "      <th>rpn_bbox_loss</th>\n",
       "      <th>rpn_class_loss</th>\n",
       "      <th>val_loss</th>\n",
       "      <th>val_mrcnn_bbox_loss</th>\n",
       "      <th>val_mrcnn_class_loss</th>\n",
       "      <th>val_mrcnn_mask_loss</th>\n",
       "      <th>val_rpn_bbox_loss</th>\n",
       "      <th>val_rpn_class_loss</th>\n",
       "    </tr>\n",
       "  </thead>\n",
       "  <tbody>\n",
       "    <tr>\n",
       "      <th>1</th>\n",
       "      <td>0.797655</td>\n",
       "      <td>0.170236</td>\n",
       "      <td>0.22029</td>\n",
       "      <td>0.250077</td>\n",
       "      <td>0.152728</td>\n",
       "      <td>0.004323</td>\n",
       "      <td>0.820932</td>\n",
       "      <td>0.178317</td>\n",
       "      <td>0.218144</td>\n",
       "      <td>0.234479</td>\n",
       "      <td>0.184846</td>\n",
       "      <td>0.005145</td>\n",
       "    </tr>\n",
       "    <tr>\n",
       "      <th>2</th>\n",
       "      <td>0.811432</td>\n",
       "      <td>0.174366</td>\n",
       "      <td>0.22831</td>\n",
       "      <td>0.251093</td>\n",
       "      <td>0.153394</td>\n",
       "      <td>0.004267</td>\n",
       "      <td>0.841396</td>\n",
       "      <td>0.185592</td>\n",
       "      <td>0.224252</td>\n",
       "      <td>0.239036</td>\n",
       "      <td>0.187501</td>\n",
       "      <td>0.005012</td>\n",
       "    </tr>\n",
       "  </tbody>\n",
       "</table>\n",
       "</div>"
      ],
      "text/plain": [
       "       loss  mrcnn_bbox_loss  mrcnn_class_loss  mrcnn_mask_loss  \\\n",
       "1  0.797655         0.170236           0.22029         0.250077   \n",
       "2  0.811432         0.174366           0.22831         0.251093   \n",
       "\n",
       "   rpn_bbox_loss  rpn_class_loss  val_loss  val_mrcnn_bbox_loss  \\\n",
       "1       0.152728        0.004323  0.820932             0.178317   \n",
       "2       0.153394        0.004267  0.841396             0.185592   \n",
       "\n",
       "   val_mrcnn_class_loss  val_mrcnn_mask_loss  val_rpn_bbox_loss  \\\n",
       "1              0.218144             0.234479           0.184846   \n",
       "2              0.224252             0.239036           0.187501   \n",
       "\n",
       "   val_rpn_class_loss  \n",
       "1            0.005145  \n",
       "2            0.005012  "
      ]
     },
     "execution_count": 22,
     "metadata": {},
     "output_type": "execute_result"
    }
   ],
   "source": [
    "df_history"
   ]
  },
  {
   "cell_type": "code",
   "execution_count": 23,
   "metadata": {},
   "outputs": [],
   "source": [
    "df_history.to_csv('df_history.csv', index=False)"
   ]
  }
 ],
 "metadata": {
  "kernelspec": {
   "display_name": "Python 3",
   "language": "python",
   "name": "python3"
  },
  "language_info": {
   "codemirror_mode": {
    "name": "ipython",
    "version": 3
   },
   "file_extension": ".py",
   "mimetype": "text/x-python",
   "name": "python",
   "nbconvert_exporter": "python",
   "pygments_lexer": "ipython3",
   "version": "3.5.2"
  }
 },
 "nbformat": 4,
 "nbformat_minor": 2
}
